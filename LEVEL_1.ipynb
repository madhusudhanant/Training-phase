{
  "nbformat": 4,
  "nbformat_minor": 0,
  "metadata": {
    "colab": {
      "provenance": []
    },
    "kernelspec": {
      "name": "python3",
      "display_name": "Python 3"
    },
    "language_info": {
      "name": "python"
    }
  },
  "cells": [
    {
      "cell_type": "markdown",
      "source": [
        "#Task 1"
      ],
      "metadata": {
        "id": "qk46j7TVjQgt"
      }
    },
    {
      "cell_type": "code",
      "execution_count": null,
      "metadata": {
        "id": "BPU9VUk4jFLQ"
      },
      "outputs": [],
      "source": [
        "print(\"Hello, Python!\")\n",
        "a = 5\n",
        "b = 3\n",
        "c = a + b\n",
        "print(f\"{a} + {b} = {c}\")"
      ]
    },
    {
      "cell_type": "markdown",
      "source": [
        "#Task 2"
      ],
      "metadata": {
        "id": "mw4i_qDA6C2P"
      }
    },
    {
      "cell_type": "code",
      "source": [
        "my_list = [1, 2, 3]\n",
        "my_list.append(4)\n",
        "my_set = {2, 4, 6}\n",
        "my_tuple = (1, 3, 5)\n",
        "my_dict = {\"a\": 1, \"b\": 2}\n",
        "my_dict [\"c\"] = 3\n",
        "print(my_list)\n",
        "print(my_set)\n",
        "print(my_tuple)\n",
        "print(my_dict)"
      ],
      "metadata": {
        "id": "XZO_LwV86AwF"
      },
      "execution_count": null,
      "outputs": []
    },
    {
      "cell_type": "markdown",
      "source": [
        "#task 3"
      ],
      "metadata": {
        "id": "hKTdQjdW-7yp"
      }
    },
    {
      "cell_type": "code",
      "source": [
        "import numpy as np\n",
        "\n",
        "a= np.arange(1, 11)\n",
        "print(a)\n",
        "print(f\"Mean: {np.mean(a)}\")\n",
        "print(f\"Max: {np.max(a)}\")\n",
        "print(f\"Min: {np.min(a)}\")"
      ],
      "metadata": {
        "id": "0z5mvWtm_AB1"
      },
      "execution_count": null,
      "outputs": []
    },
    {
      "cell_type": "markdown",
      "source": [
        "#Task 4"
      ],
      "metadata": {
        "id": "-fr3i6wU_LJ3"
      }
    },
    {
      "cell_type": "code",
      "source": [
        "import pandas as pd"
      ],
      "metadata": {
        "id": "yvefcA6J_OhB"
      },
      "execution_count": null,
      "outputs": []
    },
    {
      "cell_type": "code",
      "source": [
        "data = {\"name\":[\"madhu\", \"chandru\", \"suriya\", \"madhan\",\"virat\", \"Giribalan\", \"Sailajan\", \"Navakriyan\", \"Daran\", \"Rajkiran\"],\n",
        "        \"Age\": [20, 21, 22, 18, 20, 25, 18, 19, 17, 20]}"
      ],
      "metadata": {
        "id": "nMGWE3odAQ2I"
      },
      "execution_count": null,
      "outputs": []
    },
    {
      "cell_type": "code",
      "source": [
        "df = pd.DataFrame(data)"
      ],
      "metadata": {
        "id": "6b5eSbMyAbYO"
      },
      "execution_count": null,
      "outputs": []
    },
    {
      "cell_type": "code",
      "source": [
        "df.head()"
      ],
      "metadata": {
        "id": "BXgoAKTcAdxF"
      },
      "execution_count": null,
      "outputs": []
    },
    {
      "cell_type": "code",
      "source": [
        "df.info()"
      ],
      "metadata": {
        "id": "MYpIEDS3Af8G"
      },
      "execution_count": null,
      "outputs": []
    },
    {
      "cell_type": "markdown",
      "source": [
        "#Task 5"
      ],
      "metadata": {
        "id": "jQg7wvlUA4rJ"
      }
    },
    {
      "cell_type": "code",
      "source": [
        "data = {}"
      ],
      "metadata": {
        "id": "_GJMH8Y_AxP2"
      },
      "execution_count": null,
      "outputs": []
    },
    {
      "cell_type": "code",
      "source": [
        "for _ in range(3):\n",
        "    key = input(\"Enter the key: \")\n",
        "    value = int(input(\"Enter the value in numbers: \"))\n",
        "    data [key] = value"
      ],
      "metadata": {
        "colab": {
          "base_uri": "https://localhost:8080/"
        },
        "id": "hXJ56AOXBpmM",
        "outputId": "9c247d5c-ea84-4c82-fd61-385431cc7562"
      },
      "execution_count": null,
      "outputs": [
        {
          "name": "stdout",
          "output_type": "stream",
          "text": [
            "Enter the key: 2\n",
            "Enter the value in numbers: 2\n",
            "Enter the key: 3\n",
            "Enter the value in numbers: 3\n"
          ]
        }
      ]
    },
    {
      "cell_type": "code",
      "source": [
        "print(data)"
      ],
      "metadata": {
        "id": "mlpfINOFBrVe"
      },
      "execution_count": null,
      "outputs": []
    },
    {
      "cell_type": "code",
      "source": [],
      "metadata": {
        "id": "8iFu6HGcB2Uc"
      },
      "execution_count": null,
      "outputs": []
    },
    {
      "cell_type": "markdown",
      "source": [],
      "metadata": {
        "id": "9t6dA0i0DKB5"
      }
    },
    {
      "cell_type": "markdown",
      "source": [
        "#Bonus"
      ],
      "metadata": {
        "id": "rBlpNpNODL0L"
      }
    },
    {
      "cell_type": "code",
      "source": [
        "import numpy as np"
      ],
      "metadata": {
        "id": "LqhjtDAbDSYK"
      },
      "execution_count": null,
      "outputs": []
    },
    {
      "cell_type": "code",
      "source": [
        "first_matrix = np.array([[1, 2], [3, 4]])\n",
        "second_matrix = np.array([[5, 6], [7, 8]])"
      ],
      "metadata": {
        "id": "tA0P2cLeEEGj"
      },
      "execution_count": null,
      "outputs": []
    },
    {
      "cell_type": "code",
      "source": [
        "result_matrix = np.add(first_matrix, second_matrix)\n",
        "print(result_matrix.tolist())"
      ],
      "metadata": {
        "id": "bGo6DhraEGHV"
      },
      "execution_count": null,
      "outputs": []
    },
    {
      "cell_type": "markdown",
      "source": [],
      "metadata": {
        "id": "ACErc5agEJBi"
      }
    }
  ]
}