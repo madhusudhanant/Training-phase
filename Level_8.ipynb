{
  "cells": [
    {
      "cell_type": "markdown",
      "metadata": {
        "id": "Y4uxRT0DP-At"
      },
      "source": [
        "#Task 1: One-Sample Z-Test"
      ]
    },
    {
      "cell_type": "code",
      "source": [
        "import numpy as np\n",
        "import scipy.stats as stats\n",
        "\n",
        "population_mean = 100\n",
        "population_std = 15\n",
        "sample_size = 30\n",
        "sample_mean = 140\n",
        "alpha = 0.05\n",
        "\n",
        "z_score = (sample_mean - population_mean) / (population_std / np.sqrt(sample_size))\n",
        "\n",
        "p_value = 2 * (1 - stats.norm.cdf(abs(z_score)))\n",
        "\n",
        "print(f\"Z-score: {z_score:.5f}\")\n",
        "print(f\"P-value: {p_value:.5f}\")\n",
        "\n",
        "if p_value < alpha:\n",
        "    print(\"Reject the null hypothesis (H₀): Medication significantly affects IQ.\")\n",
        "else:\n",
        "    print(\"Fail to reject the null hypothesis (H₀): No significant effect of medication on IQ.\")\n"
      ],
      "metadata": {
        "colab": {
          "base_uri": "https://localhost:8080/"
        },
        "id": "qiqbAwib_H0V",
        "outputId": "35026e5a-f048-4959-cdc6-5d81d480a8db"
      },
      "execution_count": null,
      "outputs": [
        {
          "output_type": "stream",
          "name": "stdout",
          "text": [
            "Z-score: 14.60593\n",
            "P-value: 0.00000\n",
            "Reject the null hypothesis (H₀): Medication significantly affects IQ.\n"
          ]
        }
      ]
    },
    {
      "cell_type": "markdown",
      "source": [
        "# Task 2: One-Sample T-Test"
      ],
      "metadata": {
        "id": "g3harGSCl6va"
      }
    },
    {
      "cell_type": "code",
      "source": [
        "import numpy as np\n",
        "import scipy.stats as stats\n",
        "\n",
        "# Step 1: Generate sample data (mean=140, std=20, n=30)\n",
        "np.random.seed(42)  # Ensures reproducibility\n",
        "data = np.random.normal(140, 20, 30)\n",
        "\n",
        "# Step 2: Perform one-sample t-test against population mean = 100\n",
        "t_stat, p_two_tailed = stats.ttest_1samp(data, popmean=100)\n",
        "\n",
        "# Step 3: Convert to one-tailed p-value (testing if mean > 100)\n",
        "if t_stat > 0:\n",
        "    p_one_tailed = p_two_tailed / 2\n",
        "else:\n",
        "    p_one_tailed = 1 - (p_two_tailed / 2)\n",
        "\n",
        "# Step 4: Set significance level\n",
        "alpha = 0.05\n",
        "\n",
        "# Step 5: Print results\n",
        "print(f\"Sample Mean: {np.mean(data):.2f}\")\n",
        "print(f\"t-statistic: {t_stat:.4f}\")\n",
        "print(f\"One-tailed p-value: {p_one_tailed:.4f}\")\n",
        "\n",
        "# Step 6: Decision\n",
        "if p_one_tailed < alpha:\n",
        "    print(\"✅ Reject H₀: Medication increases IQ (mean > 100).\")\n",
        "else:\n",
        "    print(\"❌ Fail to reject H₀: No evidence that medication increases IQ.\")\n"
      ],
      "metadata": {
        "id": "XXy3Orhjk4u7"
      },
      "execution_count": null,
      "outputs": []
    }
  ],
  "metadata": {
    "accelerator": "GPU",
    "colab": {
      "gpuType": "T4",
      "provenance": []
    },
    "kernelspec": {
      "display_name": "Python 3",
      "name": "python3"
    },
    "language_info": {
      "name": "python"
    }
  },
  "nbformat": 4,
  "nbformat_minor": 0
}