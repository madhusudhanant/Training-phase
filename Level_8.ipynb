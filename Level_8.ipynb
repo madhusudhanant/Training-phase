{
  "cells": [
    {
      "cell_type": "markdown",
      "metadata": {
        "id": "Y4uxRT0DP-At"
      },
      "source": [
        "#Task 1: One-Sample Z-Test"
      ]
    },
    {
      "cell_type": "code",
      "source": [
        "import numpy as np\n",
        "import scipy.stats as stats\n",
        "\n",
        "population_mean = 100\n",
        "population_std = 15\n",
        "sample_size = 30\n",
        "sample_mean = 140\n",
        "alpha = 0.05\n",
        "\n",
        "z_score = (sample_mean - population_mean) / (population_std / np.sqrt(sample_size))\n",
        "\n",
        "p_value = 2 * (1 - stats.norm.cdf(abs(z_score)))\n",
        "\n",
        "print(f\"Z-score: {z_score:.5f}\")\n",
        "print(f\"P-value: {p_value:.5f}\")\n",
        "\n",
        "if p_value < alpha:\n",
        "    print(\"Reject the null hypothesis (H₀): Medication significantly affects IQ.\")\n",
        "else:\n",
        "    print(\"Fail to reject the null hypothesis (H₀): No significant effect of medication on IQ.\")\n"
      ],
      "metadata": {
        "colab": {
          "base_uri": "https://localhost:8080/"
        },
        "id": "qiqbAwib_H0V",
        "outputId": "5060c9ec-0157-47e7-bee4-94a07932ae40"
      },
      "execution_count": 49,
      "outputs": [
        {
          "output_type": "stream",
          "name": "stdout",
          "text": [
            "Z-score: 14.60593\n",
            "P-value: 0.00000\n",
            "Reject the null hypothesis (H₀): Medication significantly affects IQ.\n"
          ]
        }
      ]
    },
    {
      "cell_type": "markdown",
      "source": [
        "# Task 2: One-Sample T-Test"
      ],
      "metadata": {
        "id": "g3harGSCl6va"
      }
    },
    {
      "cell_type": "code",
      "source": [
        "import scipy.stats as stats\n",
        "import numpy as np"
      ],
      "metadata": {
        "id": "XXy3Orhjk4u7"
      },
      "execution_count": 50,
      "outputs": []
    },
    {
      "cell_type": "code",
      "source": [
        "population_mean=100\n",
        "n=30\n",
        "sample_std=20\n",
        "alpha=0.05\n",
        "\n",
        "data=np.random.normal(140,sample_std,n)\n",
        "\n",
        "t_score,p_value=stats.ttest_1samp(data,popmean=100)\n",
        "\n",
        "print(f\"T_Score : {t_score:.3f}\")\n",
        "print(f\"P_Value : {p_value:.3f}\")"
      ],
      "metadata": {
        "colab": {
          "base_uri": "https://localhost:8080/"
        },
        "id": "n5UbMB-bQPnl",
        "outputId": "8ff94b4e-2e89-422b-d42b-2bec62c1ad18"
      },
      "execution_count": 51,
      "outputs": [
        {
          "output_type": "stream",
          "name": "stdout",
          "text": [
            "T_Score : 12.670\n",
            "P_Value : 0.000\n"
          ]
        }
      ]
    },
    {
      "cell_type": "code",
      "source": [
        "\n",
        "if p_value < alpha:\n",
        "    print(\"Reject H₀; medication increases IQ (mean = 140 > 100).\")\n",
        "else:\n",
        "    print(\"Fail to reject H₀: medication does not affect IQ.\")"
      ],
      "metadata": {
        "colab": {
          "base_uri": "https://localhost:8080/"
        },
        "id": "wwxm0QTlQbWJ",
        "outputId": "eaab35e6-0e27-4925-e5b6-e6ef26c582a3"
      },
      "execution_count": 52,
      "outputs": [
        {
          "output_type": "stream",
          "name": "stdout",
          "text": [
            "Reject H₀; medication increases IQ (mean = 140 > 100).\n"
          ]
        }
      ]
    },
    {
      "cell_type": "markdown",
      "source": [
        "# Task 3: Chi-Square Test"
      ],
      "metadata": {
        "id": "5uilTU5LQrkD"
      }
    },
    {
      "cell_type": "code",
      "source": [
        "\n",
        "import scipy.stats as stats"
      ],
      "metadata": {
        "id": "DFe77FtXQgfe"
      },
      "execution_count": 53,
      "outputs": []
    },
    {
      "cell_type": "code",
      "source": [
        "Observed=[121, 288, 91]\n",
        "Expected = [100, 150, 250]\n",
        "alpha=0.05"
      ],
      "metadata": {
        "id": "8SCVcFFBQwLr"
      },
      "execution_count": 54,
      "outputs": []
    },
    {
      "cell_type": "code",
      "source": [
        "\n",
        "chi_square_statistic , p_value=stats.chisquare(Observed,Expected)\n",
        "print(f\"chi_square_statistic : {chi_square_statistic:.3f}\")\n",
        "print(f\"p_value : {p_value:.3f}\")"
      ],
      "metadata": {
        "colab": {
          "base_uri": "https://localhost:8080/"
        },
        "id": "sNB2XvPFQyPS",
        "outputId": "683af4a9-1060-46ae-fe57-aae0b6fe77a3"
      },
      "execution_count": 55,
      "outputs": [
        {
          "output_type": "stream",
          "name": "stdout",
          "text": [
            "chi_square_statistic : 232.494\n",
            "p_value : 0.000\n"
          ]
        }
      ]
    },
    {
      "cell_type": "code",
      "source": [
        "if p_value < alpha:\n",
        "    print(\"Reject H₀; age distribution changed.\")\n",
        "else:\n",
        "    print(\"Fail to reject H₀\")"
      ],
      "metadata": {
        "colab": {
          "base_uri": "https://localhost:8080/"
        },
        "id": "0jMctutHQ2B9",
        "outputId": "464c85c7-ba12-4e3b-90c3-92c061f0a8bb"
      },
      "execution_count": 56,
      "outputs": [
        {
          "output_type": "stream",
          "name": "stdout",
          "text": [
            "Reject H₀; age distribution changed.\n"
          ]
        }
      ]
    },
    {
      "cell_type": "markdown",
      "source": [
        "#Task 4: Covariance Calculation"
      ],
      "metadata": {
        "id": "zH7jV1mMRJpr"
      }
    },
    {
      "cell_type": "code",
      "source": [
        "\n",
        "import numpy as np"
      ],
      "metadata": {
        "id": "nkyYDTFsRoCS"
      },
      "execution_count": 57,
      "outputs": []
    },
    {
      "cell_type": "code",
      "source": [
        "\n",
        "height = np.array([160, 170, 180, 175])\n",
        "weight = np.array([60, 70, 75, 65])"
      ],
      "metadata": {
        "id": "CuHtXtOpRnJD"
      },
      "execution_count": 58,
      "outputs": []
    },
    {
      "cell_type": "code",
      "source": [
        "cov=np.cov(height,weight)[0,1]\n",
        "print(f\"covariance : {cov:.3f}\")"
      ],
      "metadata": {
        "colab": {
          "base_uri": "https://localhost:8080/"
        },
        "id": "cRY0sNwQRkGt",
        "outputId": "cf768be9-9b8c-4677-f610-46ad8f4043f9"
      },
      "execution_count": 59,
      "outputs": [
        {
          "output_type": "stream",
          "name": "stdout",
          "text": [
            "covariance : 45.833\n"
          ]
        }
      ]
    },
    {
      "cell_type": "code",
      "source": [
        "\n",
        "if cov > 0:\n",
        "    print(\"Positive covariance; as height increases, weight tends to increase.\")\n",
        "elif cov < 0:\n",
        "    print(\"Negative covariance; as height increases, weight tends to decrease.\")\n",
        "else:\n",
        "    print(\"No covariance; height and weight do not tend to change together.\")"
      ],
      "metadata": {
        "colab": {
          "base_uri": "https://localhost:8080/"
        },
        "id": "mhpNryK1Q4ro",
        "outputId": "1c128399-b8a4-4e9f-d660-7189f8606916"
      },
      "execution_count": 60,
      "outputs": [
        {
          "output_type": "stream",
          "name": "stdout",
          "text": [
            "Positive covariance; as height increases, weight tends to increase.\n"
          ]
        }
      ]
    },
    {
      "cell_type": "markdown",
      "source": [
        "#Task 5: Pearson vs. Spearman Correlation"
      ],
      "metadata": {
        "id": "epISdRHfRrER"
      }
    },
    {
      "cell_type": "code",
      "source": [
        "import scipy.stats as stats"
      ],
      "metadata": {
        "id": "Byk7YLbGRp1-"
      },
      "execution_count": 61,
      "outputs": []
    },
    {
      "cell_type": "code",
      "source": [
        "height = [160, 170, 180, 175]\n",
        "weight = [60, 70, 75, 65]"
      ],
      "metadata": {
        "id": "0jbDBBNiR2OM"
      },
      "execution_count": 62,
      "outputs": []
    },
    {
      "cell_type": "code",
      "source": [
        "\n",
        "pearson,_= stats.pearsonr(height, weight)\n",
        "spearman,_= stats.spearmanr(height,weight)"
      ],
      "metadata": {
        "id": "uj04Z8O6R4FZ"
      },
      "execution_count": 63,
      "outputs": []
    },
    {
      "cell_type": "code",
      "source": [
        "print(f\"Pearson : {pearson:.2f}\")\n",
        "print(f\"Spearman : {spearman:.2f}\")"
      ],
      "metadata": {
        "colab": {
          "base_uri": "https://localhost:8080/"
        },
        "id": "PLnGRk_WR5yS",
        "outputId": "e442ef4b-ce8d-40ec-fc72-4f09fff9c67b"
      },
      "execution_count": 64,
      "outputs": [
        {
          "output_type": "stream",
          "name": "stdout",
          "text": [
            "Pearson : 0.83\n",
            "Spearman : 0.80\n"
          ]
        }
      ]
    },
    {
      "cell_type": "code",
      "source": [
        "if pearson > spearman:\n",
        "    print(\"Both show positive correlation; Pearson correlation is higher due to near-linear relationship.\")\n",
        "else:\n",
        "    print(\"Both show positive correlation; Pearson correlation is not higher due to near-linear relationship.\")"
      ],
      "metadata": {
        "colab": {
          "base_uri": "https://localhost:8080/"
        },
        "id": "1V8Z1ovpR7yc",
        "outputId": "c080dd94-ec38-485e-c6fb-4e5c10acc099"
      },
      "execution_count": 65,
      "outputs": [
        {
          "output_type": "stream",
          "name": "stdout",
          "text": [
            "Both show positive correlation; Pearson correlation is higher due to near-linear relationship.\n"
          ]
        }
      ]
    },
    {
      "cell_type": "markdown",
      "source": [
        "#Task 6: Simulate Bernoulli Trials"
      ],
      "metadata": {
        "id": "k1HWAw2lR_26"
      }
    },
    {
      "cell_type": "code",
      "source": [
        "import numpy as np"
      ],
      "metadata": {
        "id": "zEyLtHsSR-Zb"
      },
      "execution_count": 66,
      "outputs": []
    },
    {
      "cell_type": "code",
      "source": [
        "n=1\n",
        "p=0.3\n",
        "size=1000"
      ],
      "metadata": {
        "id": "Kf1NFFRsSKqy"
      },
      "execution_count": 67,
      "outputs": []
    },
    {
      "cell_type": "code",
      "source": [
        "trail1=np.random.binomial(n,p,size)\n",
        "trail1\n",
        "success_probability=trail1.mean()\n",
        "print(f\"Simulated P = {success_probability:.3f}\")\n",
        "print(f\"Matches theoretical P = {p:.3f} for Bernoulli trial.\")"
      ],
      "metadata": {
        "colab": {
          "base_uri": "https://localhost:8080/"
        },
        "id": "KOrjgqzlSPSQ",
        "outputId": "66c7e759-fddd-4b99-c366-bdb3194b5cb5"
      },
      "execution_count": 68,
      "outputs": [
        {
          "output_type": "stream",
          "name": "stdout",
          "text": [
            "Simulated P = 0.308\n",
            "Matches theoretical P = 0.300 for Bernoulli trial.\n"
          ]
        }
      ]
    },
    {
      "cell_type": "markdown",
      "source": [
        "# Task 7: Binomial Distribution Simulation"
      ],
      "metadata": {
        "id": "za7HPMX6SdWt"
      }
    },
    {
      "cell_type": "code",
      "source": [
        "import numpy as np\n",
        "import matplotlib.pyplot as plt"
      ],
      "metadata": {
        "id": "rGKNWOzhSQGQ"
      },
      "execution_count": 69,
      "outputs": []
    },
    {
      "cell_type": "code",
      "source": [
        "n=10\n",
        "p=0.5\n",
        "size=1000"
      ],
      "metadata": {
        "id": "QiVs2_o9SiZu"
      },
      "execution_count": 70,
      "outputs": []
    },
    {
      "cell_type": "code",
      "source": [
        "data=np.random.binomial(n,p,size)\n",
        "mean=data.mean()\n",
        "print(f'Mean of data: {np.mean(data)}')"
      ],
      "metadata": {
        "colab": {
          "base_uri": "https://localhost:8080/"
        },
        "id": "qimlsNetSlZC",
        "outputId": "d294273f-0df4-4e40-ed83-6c45f052dae1"
      },
      "execution_count": 71,
      "outputs": [
        {
          "output_type": "stream",
          "name": "stdout",
          "text": [
            "Mean of data: 4.99\n"
          ]
        }
      ]
    },
    {
      "cell_type": "code",
      "source": [
        "plt.hist(data, bins=range(12), density=True, alpha=0.5, label='Histogram')\n",
        "plt.axvline(x=n*p, color='r', linestyle='--', label=f'Mean ({n*p})')\n",
        "plt.legend()\n",
        "plt.show()"
      ],
      "metadata": {
        "colab": {
          "base_uri": "https://localhost:8080/",
          "height": 430
        },
        "id": "JlFdLTC_Snbw",
        "outputId": "308a1e27-850b-4ea4-a6d1-022f406a7cd5"
      },
      "execution_count": 72,
      "outputs": [
        {
          "output_type": "display_data",
          "data": {
            "text/plain": [
              "<Figure size 640x480 with 1 Axes>"
            ],
            "image/png": "[encoded data removed]"
          },
          "metadata": {}
        }
      ]
    },
    {
      "cell_type": "markdown",
      "source": [
        "# Pareto Distribution Analysis"
      ],
      "metadata": {
        "id": "VW5TL__mSvDh"
      }
    },
    {
      "cell_type": "code",
      "source": [
        "import numpy as np\n",
        "import matplotlib.pyplot as plt"
      ],
      "metadata": {
        "id": "Jntqmw4YSpIz"
      },
      "execution_count": 73,
      "outputs": []
    },
    {
      "cell_type": "code",
      "source": [
        "a=2\n",
        "size=1000\n",
        "\n",
        "data=np.random.pareto(a,size)"
      ],
      "metadata": {
        "id": "Ncmxsiy3S3o4"
      },
      "execution_count": 74,
      "outputs": []
    },
    {
      "cell_type": "code",
      "source": [
        "top_20_percent = np.sort(data)[-int(0.2 * size):]\n",
        "\n",
        "total_sum = np.sum(data)\n",
        "\n",
        "proportion = np.sum(top_20_percent) / total_sum\n"
      ],
      "metadata": {
        "id": "FIj0qMyzS5qK"
      },
      "execution_count": 75,
      "outputs": []
    },
    {
      "cell_type": "code",
      "source": [
        "print(f\"Top 20% of values ≈ {proportion * 100:.2f}% of total sum, confirming 80/20 rule.\")"
      ],
      "metadata": {
        "colab": {
          "base_uri": "https://localhost:8080/"
        },
        "id": "uU1WKqZwS-Kn",
        "outputId": "a88b6f40-1cba-4a20-ecb5-57262b49fd5a"
      },
      "execution_count": 76,
      "outputs": [
        {
          "output_type": "stream",
          "name": "stdout",
          "text": [
            "Top 20% of values ≈ 66.55% of total sum, confirming 80/20 rule.\n"
          ]
        }
      ]
    },
    {
      "cell_type": "code",
      "source": [
        "plt.hist(data, bins=50, density=True, log=True)\n",
        "plt.title('Pareto Distribution')\n",
        "plt.xlabel('Value')\n",
        "plt.ylabel('Probability Density')\n",
        "plt.show()"
      ],
      "metadata": {
        "colab": {
          "base_uri": "https://localhost:8080/",
          "height": 472
        },
        "id": "AIRS1UBpTAFy",
        "outputId": "2cc5b0a6-a62c-43eb-d05a-0ef9bdcff63d"
      },
      "execution_count": 77,
      "outputs": [
        {
          "output_type": "display_data",
          "data": {
            "text/plain": [
              "<Figure size 640x480 with 1 Axes>"
            ],
            "image/png": "[encoded data removed]"
          },
          "metadata": {}
        }
      ]
    },
    {
      "cell_type": "code",
      "source": [],
      "metadata": {
        "id": "4W8MW06oTA2S"
      },
      "execution_count": 77,
      "outputs": []
    }
  ],
  "metadata": {
    "accelerator": "GPU",
    "colab": {
      "gpuType": "T4",
      "provenance": []
    },
    "kernelspec": {
      "display_name": "Python 3",
      "name": "python3"
    },
    "language_info": {
      "name": "python"
    }
  },
  "nbformat": 4,
  "nbformat_minor": 0
}