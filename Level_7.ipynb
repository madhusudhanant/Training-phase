{
  "nbformat": 4,
  "nbformat_minor": 0,
  "metadata": {
    "colab": {
      "provenance": []
    },
    "kernelspec": {
      "name": "python3",
      "display_name": "Python 3"
    },
    "language_info": {
      "name": "python"
    }
  },
  "cells": [
    {
      "cell_type": "markdown",
      "source": [
        "#TASK 1"
      ],
      "metadata": {
        "id": "pCvDaWVc7IPp"
      }
    },
    {
      "cell_type": "code",
      "execution_count": null,
      "metadata": {
        "colab": {
          "base_uri": "https://localhost:8080/"
        },
        "id": "8R8I_u556rwL",
        "outputId": "46202edc-e840-40a2-f757-422fb24f6bb7"
      },
      "outputs": [
        {
          "output_type": "stream",
          "name": "stdout",
          "text": [
            "Z-scores: [-1.46385011 -0.87831007 -0.29277002  0.29277002  0.87831007  1.46385011]\n",
            "The z-score for 5 is ~0.29, meaning it’s 0.29 standard deviations above the mean.\n"
          ]
        }
      ],
      "source": [
        "import numpy as np\n",
        "\n",
        "data = np.array([2, 3, 4, 5, 6, 7])\n",
        "mean = np.mean(data)\n",
        "std_dev = np.std(data, ddof=0)\n",
        "\n",
        "z_scores = (data - mean) / std_dev\n",
        "z_score_5 = (5 - mean) / std_dev\n",
        "\n",
        "print(\"Z-scores:\", z_scores)\n",
        "print(f\"The z-score for 5 is ~{z_score_5:.2f}, meaning it’s {z_score_5:.2f} standard deviations above the mean.\")\n"
      ]
    },
    {
      "cell_type": "markdown",
      "source": [
        "#TASK 2"
      ],
      "metadata": {
        "id": "ez2kNWqg7LFj"
      }
    },
    {
      "cell_type": "code",
      "source": [
        "from scipy.stats import norm\n",
        "\n",
        "z_score = 0.25\n",
        "percentage_above_4_25 = norm.sf(z_score) * 100\n",
        "print(f\"Approximately {percentage_above_4_25:.2f}% of scores fall above 4.25.\")\n"
      ],
      "metadata": {
        "colab": {
          "base_uri": "https://localhost:8080/"
        },
        "id": "p2sYshZd6--R",
        "outputId": "73cb7957-531b-4d44-a5e8-1a38b97de7d2"
      },
      "execution_count": null,
      "outputs": [
        {
          "output_type": "stream",
          "name": "stdout",
          "text": [
            "Approximately 40.13% of scores fall above 4.25.\n"
          ]
        }
      ]
    },
    {
      "cell_type": "markdown",
      "source": [
        "#TASK 3"
      ],
      "metadata": {
        "id": "xf-mpuhk7cah"
      }
    },
    {
      "cell_type": "code",
      "source": [
        "import numpy as np\n",
        "\n",
        "data = np.array([1, 2, 3, 4, 5, 6, 7, 8, 9, 20])\n",
        "mean = np.mean(data)\n",
        "std_dev = np.std(data, ddof=0)\n",
        "\n",
        "z_scores = (data - mean) / std_dev\n",
        "\n",
        "outliers = data[np.abs(z_scores) > 3]\n",
        "if len(outliers) == 0:\n",
        "    print(\"No outliers detected; all z-scores are below 3.\")\n",
        "else:\n",
        "    print(f\"Outliers detected: {outliers}\")\n"
      ],
      "metadata": {
        "colab": {
          "base_uri": "https://localhost:8080/"
        },
        "id": "v0ewQEQU7PLL",
        "outputId": "4a81cee9-69d1-498b-a191-282f9acde95b"
      },
      "execution_count": null,
      "outputs": [
        {
          "output_type": "stream",
          "name": "stdout",
          "text": [
            "No outliers detected; all z-scores are below 3.\n"
          ]
        }
      ]
    },
    {
      "cell_type": "markdown",
      "source": [
        "#TASK 4"
      ],
      "metadata": {
        "id": "lT1J0kAY7fy3"
      }
    },
    {
      "cell_type": "code",
      "source": [
        "import numpy as np\n",
        "import matplotlib.pyplot as plt\n",
        "import seaborn as sns\n",
        "\n",
        "data = np.array([1, 2, 3, 4, 5, 6, 7, 8, 9, 20])\n",
        "Q1 = np.percentile(data, 25)\n",
        "Q3 = np.percentile(data, 75)\n",
        "IQR = Q3 - Q1\n",
        "\n",
        "lower_bound = Q1 - 1.5 * IQR\n",
        "upper_bound = Q3 + 1.5 * IQR\n",
        "\n",
        "outliers = data[(data < lower_bound) | (data > upper_bound)]\n",
        "\n",
        "print(f\"IQR: {IQR}\")\n",
        "print(f\"Outliers: {outliers}\")\n",
        "\n",
        "plt.figure(figsize=(6, 4))\n",
        "sns.boxplot(data=data, color=\"skyblue\")\n",
        "plt.title(\"Box Plot for Outlier Detection\")\n",
        "plt.show()"
      ],
      "metadata": {
        "colab": {
          "base_uri": "https://localhost:8080/",
          "height": 407
        },
        "id": "ofK-aDSC7V7f",
        "outputId": "55e8e1c0-85e7-4c9f-9c7b-5bbc8cd12143"
      },
      "execution_count": null,
      "outputs": [
        {
          "output_type": "stream",
          "name": "stdout",
          "text": [
            "IQR: 4.5\n",
            "Outliers: [20]\n"
          ]
        },
        {
          "output_type": "display_data",
          "data": {
            "text/plain": [
              "<Figure size 600x400 with 1 Axes>"
            ],
            "image/png": "[encoded data removed]"
          },
          "metadata": {}
        }
      ]
    },
    {
      "cell_type": "markdown",
      "source": [
        "#TASK 5"
      ],
      "metadata": {
        "id": "HVaRyLNR7wtE"
      }
    },
    {
      "cell_type": "code",
      "source": [
        "import numpy as np\n",
        "np.random.seed(42)\n",
        "rolls = np.random.randint(1, 7, 1000)\n",
        "count_1_or_3 = np.sum((rolls == 1) | (rolls == 3))\n",
        "\n",
        "simulated_probability = count_1_or_3 / 1000\n",
        "theoretical_probability = 1/3\n",
        "simulated_probability, theoretical_probability\n"
      ],
      "metadata": {
        "colab": {
          "base_uri": "https://localhost:8080/"
        },
        "id": "NFghRU2V7kUW",
        "outputId": "2e354d51-fe1a-49ac-823e-6a9a02173436"
      },
      "execution_count": null,
      "outputs": [
        {
          "output_type": "execute_result",
          "data": {
            "text/plain": [
              "(np.float64(0.335), 0.3333333333333333)"
            ]
          },
          "metadata": {},
          "execution_count": 6
        }
      ]
    },
    {
      "cell_type": "markdown",
      "source": [
        "#TASK 6"
      ],
      "metadata": {
        "id": "uAR2wjQY78om"
      }
    },
    {
      "cell_type": "code",
      "source": [
        "P_Queen = 4 / 52\n",
        "P_Heart = 13 / 52\n",
        "P_Queen_and_Heart = 1 / 52\n",
        "\n",
        "P_Queen_or_Heart = P_Queen + P_Heart - P_Queen_and_Heart\n",
        "\n",
        "P_Queen_or_Heart"
      ],
      "metadata": {
        "colab": {
          "base_uri": "https://localhost:8080/"
        },
        "id": "IE7zfPoi70_m",
        "outputId": "fcbd8ce6-3bf3-4932-dbc0-ed3638f1d093"
      },
      "execution_count": null,
      "outputs": [
        {
          "output_type": "execute_result",
          "data": {
            "text/plain": [
              "0.3076923076923077"
            ]
          },
          "metadata": {},
          "execution_count": 7
        }
      ]
    },
    {
      "cell_type": "markdown",
      "source": [
        "#TASK &"
      ],
      "metadata": {
        "id": "D-_QVGVd8HyE"
      }
    },
    {
      "cell_type": "code",
      "source": [
        "import numpy as np\n",
        "\n",
        "np.random.seed(42)  # For reproducibility\n",
        "rolls_1 = np.random.randint(1, 7, 1000)  # First roll\n",
        "rolls_2 = np.random.randint(1, 7, 1000)  # Second roll\n",
        "\n",
        "count_5_then_4 = np.sum((rolls_1 == 5) & (rolls_2 == 4))\n",
        "\n",
        "simulated_probability = count_5_then_4 / 1000\n",
        "theoretical_probability = (1/6) * (1/6)  # 1/36\n",
        "simulated_probability, theoretical_probability"
      ],
      "metadata": {
        "colab": {
          "base_uri": "https://localhost:8080/"
        },
        "id": "6tBszaFO7_M9",
        "outputId": "97359d0f-ff2c-4e0d-df19-8d91541e4dd9"
      },
      "execution_count": null,
      "outputs": [
        {
          "output_type": "execute_result",
          "data": {
            "text/plain": [
              "(np.float64(0.029), 0.027777777777777776)"
            ]
          },
          "metadata": {},
          "execution_count": 8
        }
      ]
    },
    {
      "cell_type": "code",
      "source": [],
      "metadata": {
        "id": "DyrrXEbO8Lsq"
      },
      "execution_count": null,
      "outputs": []
    }
  ]
}