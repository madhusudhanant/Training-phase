{
  "nbformat": 4,
  "nbformat_minor": 0,
  "metadata": {
    "colab": {
      "provenance": []
    },
    "kernelspec": {
      "name": "python3",
      "display_name": "Python 3"
    },
    "language_info": {
      "name": "python"
    }
  },
  "cells": [
    {
      "cell_type": "markdown",
      "source": [
        "#Task 1\n"
      ],
      "metadata": {
        "id": "Q9pkIu-axbND"
      }
    },
    {
      "cell_type": "code",
      "execution_count": null,
      "metadata": {
        "id": "VwQ8-eIBxTR-"
      },
      "outputs": [],
      "source": [
        "class person:\n",
        "  def __init__(self, name):\n",
        "    self.name = name\n",
        "\n",
        "  def greeting(self):\n",
        "    return (f'\"hi, {self.name}\".')"
      ]
    },
    {
      "cell_type": "code",
      "source": [
        "person1 = person(\"alice\")\n",
        "print(person1.greeting())\n"
      ],
      "metadata": {
        "colab": {
          "base_uri": "https://localhost:8080/"
        },
        "id": "R26lFD2jzllN",
        "outputId": "58172a10-9b72-440f-c189-dccc26c654ef"
      },
      "execution_count": null,
      "outputs": [
        {
          "output_type": "stream",
          "name": "stdout",
          "text": [
            "\"hi, alice\".\n"
          ]
        }
      ]
    },
    {
      "cell_type": "markdown",
      "source": [
        "#Task 2 exception handler"
      ],
      "metadata": {
        "id": "lFTtFx7-2dpd"
      }
    },
    {
      "cell_type": "code",
      "source": [
        "try:\n",
        "    divided = 10/0\n",
        "except ZeroDivisionError:\n",
        "    print('\"cannot divide by zero\".')"
      ],
      "metadata": {
        "colab": {
          "base_uri": "https://localhost:8080/"
        },
        "id": "qNfyNGGv2Bk4",
        "outputId": "dad91414-0fcd-45dc-d363-6c1639b1a4ad"
      },
      "execution_count": null,
      "outputs": [
        {
          "output_type": "stream",
          "name": "stdout",
          "text": [
            "\"cannot divide by zero\".\n"
          ]
        }
      ]
    },
    {
      "cell_type": "markdown",
      "source": [
        "#Task 3: Inheritance Example"
      ],
      "metadata": {
        "id": "34vrNhqF4aoX"
      }
    },
    {
      "cell_type": "code",
      "source": [
        "class animal:\n",
        "  def sound(self):\n",
        "    return \"Generic sound.\"\n",
        "\n",
        "class Dog(animal):\n",
        "  def sound(self):\n",
        "    return \"Woof\""
      ],
      "metadata": {
        "id": "yJO13qf54PWd"
      },
      "execution_count": null,
      "outputs": []
    },
    {
      "cell_type": "code",
      "source": [
        "tom = Dog()\n",
        "tom.sound()"
      ],
      "metadata": {
        "colab": {
          "base_uri": "https://localhost:8080/",
          "height": 36
        },
        "id": "LfwqsSrv5LtI",
        "outputId": "0894aeb6-ef6a-43fb-eeab-8e9947a94bb1"
      },
      "execution_count": null,
      "outputs": [
        {
          "output_type": "execute_result",
          "data": {
            "text/plain": [
              "'Woof'"
            ],
            "application/vnd.google.colaboratory.intrinsic+json": {
              "type": "string"
            }
          },
          "metadata": {},
          "execution_count": 6
        }
      ]
    },
    {
      "cell_type": "markdown",
      "source": [
        "#Task 4: Decorator Timer"
      ],
      "metadata": {
        "id": "ukGB_iUD6d3Q"
      }
    },
    {
      "cell_type": "code",
      "source": [
        "import time"
      ],
      "metadata": {
        "id": "Nc2X0zPT5VOA"
      },
      "execution_count": null,
      "outputs": []
    },
    {
      "cell_type": "code",
      "source": [
        "def decorator_function(func):\n",
        "    def warpped():\n",
        "        start_time = time.time()\n",
        "        func()\n",
        "        end_time = time.time()\n",
        "        print(f\"{round(end_time - start_time)} second.\")\n",
        "    return warpped"
      ],
      "metadata": {
        "id": "RbXcjnPi7QNV"
      },
      "execution_count": null,
      "outputs": []
    },
    {
      "cell_type": "code",
      "source": [
        "def sample_function():\n",
        "    sleep = time.sleep(10)\n",
        "\n",
        "a= decorator_function(sample_function)"
      ],
      "metadata": {
        "id": "3Qshcy_JTKug"
      },
      "execution_count": null,
      "outputs": []
    },
    {
      "cell_type": "markdown",
      "source": [
        "#Task 5: Generator sequence"
      ],
      "metadata": {
        "id": "8MwCX7FJWErV"
      }
    },
    {
      "cell_type": "code",
      "source": [
        "def fib(no_of_term):\n",
        "    first = 0\n",
        "    second = 1\n",
        "\n",
        "    for i in range(no_of_term):\n",
        "        yield first\n",
        "        new = first + second\n",
        "        first = second\n",
        "        second = new"
      ],
      "metadata": {
        "id": "5Tu3pBQITdIX"
      },
      "execution_count": null,
      "outputs": []
    },
    {
      "cell_type": "code",
      "source": [
        "my_list = list(fib(5))\n",
        "print(my_list)"
      ],
      "metadata": {
        "colab": {
          "base_uri": "https://localhost:8080/"
        },
        "id": "fBc34Z1KBTSx",
        "outputId": "383480bd-626e-416f-bf19-5ed9db147b1f"
      },
      "execution_count": null,
      "outputs": [
        {
          "output_type": "stream",
          "name": "stdout",
          "text": [
            "[0, 1, 1, 2, 3]\n"
          ]
        }
      ]
    },
    {
      "cell_type": "markdown",
      "source": [
        "#Bonus: Deep copy Test"
      ],
      "metadata": {
        "id": "I_emaIWiI1y-"
      }
    },
    {
      "cell_type": "code",
      "source": [
        "import copy"
      ],
      "metadata": {
        "id": "u-vKhSIBBtsV"
      },
      "execution_count": null,
      "outputs": []
    },
    {
      "cell_type": "code",
      "source": [
        "orginal = [[1,2], [3,4]]"
      ],
      "metadata": {
        "id": "6cKncmR0JTcA"
      },
      "execution_count": null,
      "outputs": []
    },
    {
      "cell_type": "code",
      "source": [
        "shallow_copy = copy.copy(orginal)\n",
        "deep_copy = copy.deepcopy(orginal)"
      ],
      "metadata": {
        "id": "sTOyj3NQJguM"
      },
      "execution_count": null,
      "outputs": []
    },
    {
      "cell_type": "code",
      "source": [
        "shallow_copy[0][0] = 5\n",
        "deep_copy[0][0] = 6"
      ],
      "metadata": {
        "id": "CRVx8-lGJoEP"
      },
      "execution_count": null,
      "outputs": []
    },
    {
      "cell_type": "code",
      "source": [
        "print(f\"{orginal},{shallow_copy},{deep_copy}\")"
      ],
      "metadata": {
        "colab": {
          "base_uri": "https://localhost:8080/"
        },
        "id": "pfSJwWg8KER_",
        "outputId": "2fafdd72-ad69-490e-8895-643e107a5746"
      },
      "execution_count": null,
      "outputs": [
        {
          "output_type": "stream",
          "name": "stdout",
          "text": [
            "[[5, 2], [3, 4]],[[5, 2], [3, 4]],[[6, 2], [3, 4]]\n"
          ]
        }
      ]
    },
    {
      "cell_type": "code",
      "source": [],
      "metadata": {
        "id": "k0hqum8iKQav"
      },
      "execution_count": null,
      "outputs": []
    }
  ]
}